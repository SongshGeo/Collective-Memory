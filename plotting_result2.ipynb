{
 "cells": [
  {
   "cell_type": "markdown",
   "metadata": {},
   "source": [
    "# Plotting for result 2"
   ]
  },
  {
   "cell_type": "code",
   "execution_count": 1,
   "metadata": {},
   "outputs": [],
   "source": [
    "from data_process import *\n",
    "\n",
    "from matplotlib import pyplot as plt\n",
    "import seaborn as sns\n",
    "import pandas as pd\n",
    "import numpy as np"
   ]
  },
  {
   "cell_type": "code",
   "execution_count": 2,
   "metadata": {},
   "outputs": [],
   "source": [
    "x = pd.DataFrame({\n",
    "    'floods': MAJOR_HISTORICAL_FLOODS,\n",
    "    'servey': [SERVEY_YEAR] * 5,\n",
    "    'x_slices': [np.arange(start, SERVEY_YEAR, 1) for start in MAJOR_HISTORICAL_FLOODS],\n",
    "})\n",
    "\n",
    "memory_all = stats_fre_questionnaris(datasets['all'], MAJOR_HISTORICAL_FLOODS, normalize=True)\n",
    "memory_farm = stats_fre_questionnaris(datasets['farm'], MAJOR_HISTORICAL_FLOODS, normalize=True)\n",
    "memory_off = stats_fre_questionnaris(datasets['off-farm'], MAJOR_HISTORICAL_FLOODS, normalize=True)"
   ]
  },
  {
   "cell_type": "code",
   "execution_count": 3,
   "metadata": {},
   "outputs": [
    {
     "data": {
      "text/html": [
       "<div>\n",
       "<style scoped>\n",
       "    .dataframe tbody tr th:only-of-type {\n",
       "        vertical-align: middle;\n",
       "    }\n",
       "\n",
       "    .dataframe tbody tr th {\n",
       "        vertical-align: top;\n",
       "    }\n",
       "\n",
       "    .dataframe thead th {\n",
       "        text-align: right;\n",
       "    }\n",
       "</style>\n",
       "<table border=\"1\" class=\"dataframe\">\n",
       "  <thead>\n",
       "    <tr style=\"text-align: right;\">\n",
       "      <th></th>\n",
       "      <th>floods</th>\n",
       "      <th>servey</th>\n",
       "      <th>x_slices</th>\n",
       "    </tr>\n",
       "  </thead>\n",
       "  <tbody>\n",
       "    <tr>\n",
       "      <th>0</th>\n",
       "      <td>1904</td>\n",
       "      <td>2018</td>\n",
       "      <td>[1904, 1905, 1906, 1907, 1908, 1909, 1910, 191...</td>\n",
       "    </tr>\n",
       "    <tr>\n",
       "      <th>1</th>\n",
       "      <td>1946</td>\n",
       "      <td>2018</td>\n",
       "      <td>[1946, 1947, 1948, 1949, 1950, 1951, 1952, 195...</td>\n",
       "    </tr>\n",
       "    <tr>\n",
       "      <th>2</th>\n",
       "      <td>1964</td>\n",
       "      <td>2018</td>\n",
       "      <td>[1964, 1965, 1966, 1967, 1968, 1969, 1970, 197...</td>\n",
       "    </tr>\n",
       "    <tr>\n",
       "      <th>3</th>\n",
       "      <td>1981</td>\n",
       "      <td>2018</td>\n",
       "      <td>[1981, 1982, 1983, 1984, 1985, 1986, 1987, 198...</td>\n",
       "    </tr>\n",
       "    <tr>\n",
       "      <th>4</th>\n",
       "      <td>2012</td>\n",
       "      <td>2018</td>\n",
       "      <td>[2012, 2013, 2014, 2015, 2016, 2017]</td>\n",
       "    </tr>\n",
       "  </tbody>\n",
       "</table>\n",
       "</div>"
      ],
      "text/plain": [
       "   floods  servey                                           x_slices\n",
       "0    1904    2018  [1904, 1905, 1906, 1907, 1908, 1909, 1910, 191...\n",
       "1    1946    2018  [1946, 1947, 1948, 1949, 1950, 1951, 1952, 195...\n",
       "2    1964    2018  [1964, 1965, 1966, 1967, 1968, 1969, 1970, 197...\n",
       "3    1981    2018  [1981, 1982, 1983, 1984, 1985, 1986, 1987, 198...\n",
       "4    2012    2018               [2012, 2013, 2014, 2015, 2016, 2017]"
      ]
     },
     "execution_count": 3,
     "metadata": {},
     "output_type": "execute_result"
    }
   ],
   "source": [
    "x"
   ]
  },
  {
   "cell_type": "code",
   "execution_count": 4,
   "metadata": {},
   "outputs": [
    {
     "data": {
      "text/html": [
       "<div>\n",
       "<style scoped>\n",
       "    .dataframe tbody tr th:only-of-type {\n",
       "        vertical-align: middle;\n",
       "    }\n",
       "\n",
       "    .dataframe tbody tr th {\n",
       "        vertical-align: top;\n",
       "    }\n",
       "\n",
       "    .dataframe thead th {\n",
       "        text-align: right;\n",
       "    }\n",
       "</style>\n",
       "<table border=\"1\" class=\"dataframe\">\n",
       "  <thead>\n",
       "    <tr style=\"text-align: right;\">\n",
       "      <th></th>\n",
       "      <th>communicative</th>\n",
       "      <th>cultural</th>\n",
       "      <th>collective</th>\n",
       "      <th>sum</th>\n",
       "    </tr>\n",
       "  </thead>\n",
       "  <tbody>\n",
       "    <tr>\n",
       "      <th>1904</th>\n",
       "      <td>0.176568</td>\n",
       "      <td>0.122112</td>\n",
       "      <td>0.273927</td>\n",
       "      <td>0.298680</td>\n",
       "    </tr>\n",
       "    <tr>\n",
       "      <th>1946</th>\n",
       "      <td>0.186469</td>\n",
       "      <td>0.122112</td>\n",
       "      <td>0.273927</td>\n",
       "      <td>0.308581</td>\n",
       "    </tr>\n",
       "    <tr>\n",
       "      <th>1964</th>\n",
       "      <td>0.247525</td>\n",
       "      <td>0.132013</td>\n",
       "      <td>0.356436</td>\n",
       "      <td>0.379538</td>\n",
       "    </tr>\n",
       "    <tr>\n",
       "      <th>1981</th>\n",
       "      <td>0.402640</td>\n",
       "      <td>0.140264</td>\n",
       "      <td>0.519802</td>\n",
       "      <td>0.542904</td>\n",
       "    </tr>\n",
       "    <tr>\n",
       "      <th>2012</th>\n",
       "      <td>0.374587</td>\n",
       "      <td>0.199670</td>\n",
       "      <td>0.511551</td>\n",
       "      <td>0.574257</td>\n",
       "    </tr>\n",
       "  </tbody>\n",
       "</table>\n",
       "</div>"
      ],
      "text/plain": [
       "      communicative  cultural  collective       sum\n",
       "1904       0.176568  0.122112    0.273927  0.298680\n",
       "1946       0.186469  0.122112    0.273927  0.308581\n",
       "1964       0.247525  0.132013    0.356436  0.379538\n",
       "1981       0.402640  0.140264    0.519802  0.542904\n",
       "2012       0.374587  0.199670    0.511551  0.574257"
      ]
     },
     "execution_count": 4,
     "metadata": {},
     "output_type": "execute_result"
    }
   ],
   "source": [
    "memory_all"
   ]
  },
  {
   "cell_type": "code",
   "execution_count": 6,
   "metadata": {},
   "outputs": [
    {
     "data": {
      "text/plain": [
       "{'n': 1.5337159865591636, 'k': 0.01578253223539483}"
      ]
     },
     "execution_count": 6,
     "metadata": {},
     "output_type": "execute_result"
    }
   ],
   "source": [
    "get_decay_params('all', 'exp')"
   ]
  },
  {
   "cell_type": "code",
   "execution_count": 5,
   "metadata": {},
   "outputs": [
    {
     "ename": "NameError",
     "evalue": "name 'result' is not defined",
     "output_type": "error",
     "traceback": [
      "\u001b[1;31m---------------------------------------------------------------------------\u001b[0m",
      "\u001b[1;31mNameError\u001b[0m                                 Traceback (most recent call last)",
      "\u001b[1;32m<ipython-input-5-bdd5190b8cfd>\u001b[0m in \u001b[0;36m<module>\u001b[1;34m()\u001b[0m\n\u001b[0;32m      1\u001b[0m \u001b[0mcolors\u001b[0m \u001b[1;33m=\u001b[0m \u001b[1;33m[\u001b[0m\u001b[1;34m'b'\u001b[0m\u001b[1;33m,\u001b[0m \u001b[1;34m'g'\u001b[0m\u001b[1;33m,\u001b[0m \u001b[1;34m'r'\u001b[0m\u001b[1;33m,\u001b[0m \u001b[1;34m'c'\u001b[0m\u001b[1;33m,\u001b[0m \u001b[1;34m'm'\u001b[0m\u001b[1;33m]\u001b[0m\u001b[1;33m\u001b[0m\u001b[0m\n\u001b[1;32m----> 2\u001b[1;33m \u001b[0mk\u001b[0m\u001b[1;33m,\u001b[0m \u001b[0mn0\u001b[0m \u001b[1;33m=\u001b[0m \u001b[1;33m[\u001b[0m\u001b[0mresult\u001b[0m\u001b[1;33m.\u001b[0m\u001b[0mparams\u001b[0m\u001b[1;33m[\u001b[0m\u001b[0mkey\u001b[0m\u001b[1;33m]\u001b[0m\u001b[1;33m.\u001b[0m\u001b[0mvalue\u001b[0m \u001b[1;32mfor\u001b[0m \u001b[0mkey\u001b[0m \u001b[1;32min\u001b[0m \u001b[1;33m[\u001b[0m\u001b[1;34m'k'\u001b[0m\u001b[1;33m,\u001b[0m \u001b[1;34m'n'\u001b[0m\u001b[1;33m]\u001b[0m\u001b[1;33m]\u001b[0m\u001b[1;33m\u001b[0m\u001b[0m\n\u001b[0m\u001b[0;32m      3\u001b[0m \u001b[0minfluence\u001b[0m \u001b[1;33m=\u001b[0m \u001b[0mn0\u001b[0m \u001b[1;33m*\u001b[0m \u001b[0mnomarlization\u001b[0m\u001b[1;33m(\u001b[0m\u001b[0mx_data\u001b[0m\u001b[1;33m)\u001b[0m\u001b[1;33m.\u001b[0m\u001b[0mloc\u001b[0m\u001b[1;33m[\u001b[0m\u001b[0mMAJOR_HISTORICAL_FLOODS\u001b[0m\u001b[1;33m]\u001b[0m\u001b[1;33m\u001b[0m\u001b[0m\n\u001b[0;32m      4\u001b[0m \u001b[0my_model\u001b[0m \u001b[1;33m=\u001b[0m \u001b[1;33m[\u001b[0m\u001b[1;33m]\u001b[0m\u001b[1;33m\u001b[0m\u001b[0m\n\u001b[0;32m      5\u001b[0m \u001b[1;33m\u001b[0m\u001b[0m\n",
      "\u001b[1;32m<ipython-input-5-bdd5190b8cfd>\u001b[0m in \u001b[0;36m<listcomp>\u001b[1;34m(.0)\u001b[0m\n\u001b[0;32m      1\u001b[0m \u001b[0mcolors\u001b[0m \u001b[1;33m=\u001b[0m \u001b[1;33m[\u001b[0m\u001b[1;34m'b'\u001b[0m\u001b[1;33m,\u001b[0m \u001b[1;34m'g'\u001b[0m\u001b[1;33m,\u001b[0m \u001b[1;34m'r'\u001b[0m\u001b[1;33m,\u001b[0m \u001b[1;34m'c'\u001b[0m\u001b[1;33m,\u001b[0m \u001b[1;34m'm'\u001b[0m\u001b[1;33m]\u001b[0m\u001b[1;33m\u001b[0m\u001b[0m\n\u001b[1;32m----> 2\u001b[1;33m \u001b[0mk\u001b[0m\u001b[1;33m,\u001b[0m \u001b[0mn0\u001b[0m \u001b[1;33m=\u001b[0m \u001b[1;33m[\u001b[0m\u001b[0mresult\u001b[0m\u001b[1;33m.\u001b[0m\u001b[0mparams\u001b[0m\u001b[1;33m[\u001b[0m\u001b[0mkey\u001b[0m\u001b[1;33m]\u001b[0m\u001b[1;33m.\u001b[0m\u001b[0mvalue\u001b[0m \u001b[1;32mfor\u001b[0m \u001b[0mkey\u001b[0m \u001b[1;32min\u001b[0m \u001b[1;33m[\u001b[0m\u001b[1;34m'k'\u001b[0m\u001b[1;33m,\u001b[0m \u001b[1;34m'n'\u001b[0m\u001b[1;33m]\u001b[0m\u001b[1;33m]\u001b[0m\u001b[1;33m\u001b[0m\u001b[0m\n\u001b[0m\u001b[0;32m      3\u001b[0m \u001b[0minfluence\u001b[0m \u001b[1;33m=\u001b[0m \u001b[0mn0\u001b[0m \u001b[1;33m*\u001b[0m \u001b[0mnomarlization\u001b[0m\u001b[1;33m(\u001b[0m\u001b[0mx_data\u001b[0m\u001b[1;33m)\u001b[0m\u001b[1;33m.\u001b[0m\u001b[0mloc\u001b[0m\u001b[1;33m[\u001b[0m\u001b[0mMAJOR_HISTORICAL_FLOODS\u001b[0m\u001b[1;33m]\u001b[0m\u001b[1;33m\u001b[0m\u001b[0m\n\u001b[0;32m      4\u001b[0m \u001b[0my_model\u001b[0m \u001b[1;33m=\u001b[0m \u001b[1;33m[\u001b[0m\u001b[1;33m]\u001b[0m\u001b[1;33m\u001b[0m\u001b[0m\n\u001b[0;32m      5\u001b[0m \u001b[1;33m\u001b[0m\u001b[0m\n",
      "\u001b[1;31mNameError\u001b[0m: name 'result' is not defined"
     ]
    }
   ],
   "source": [
    "colors = ['b', 'g', 'r', 'c', 'm']\n",
    "k, n0 = [result.params[key].value for key in ['k', 'n']]\n",
    "influence = n0 * nomarlization(x_data).loc[MAJOR_HISTORICAL_FLOODS]\n",
    "y_model = []\n",
    "\n",
    "# plotting\n",
    "plt.scatter(x=influence.index, y=influence.values, color='w', edgecolors=colors)\n",
    "plt.scatter(x=[SERVEY_YEAR] * 5, y=y_data, color=colors)\n",
    "\n",
    "for i in range(len(MAJOR_HISTORICAL_FLOODS)):\n",
    "    start_year = MAJOR_HISTORICAL_FLOODS[i]\n",
    "    t_slices = np.arange(start_year, SERVEY_YEAR)\n",
    "    y_func = exp_decay(t_slices, start_year, influence[start_year], k)\n",
    "    plt.plot(t_slices, y_func, '--', c=colors[i])\n",
    "    y_model.append(y_func[-1])\n",
    "plt.title(kind)\n",
    "plt.show()\n",
    "\n",
    "plt.scatter(y_data, y_model, label='forecast by model')\n",
    "plt.plot(y_data, y_data, label='1:1 line')\n",
    "plt.title(kind)\n",
    "plt.show()\n",
    "\n",
    "nash = fit_nash(y_data, y_model)\n",
    "r2 = goodness_of_fit(y_data, y_model)\n",
    "adj_r2 = adjusted_goodness(y_data, y_model)"
   ]
  },
  {
   "cell_type": "code",
   "execution_count": null,
   "metadata": {},
   "outputs": [],
   "source": []
  },
  {
   "cell_type": "code",
   "execution_count": null,
   "metadata": {},
   "outputs": [],
   "source": []
  }
 ],
 "metadata": {
  "kernelspec": {
   "display_name": "Python 3",
   "language": "python",
   "name": "python3"
  },
  "language_info": {
   "codemirror_mode": {
    "name": "ipython",
    "version": 3
   },
   "file_extension": ".py",
   "mimetype": "text/x-python",
   "name": "python",
   "nbconvert_exporter": "python",
   "pygments_lexer": "ipython3",
   "version": "3.7.0"
  }
 },
 "nbformat": 4,
 "nbformat_minor": 2
}
