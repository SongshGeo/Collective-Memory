{
 "cells": [
  {
   "cell_type": "markdown",
   "metadata": {},
   "source": [
    "# Plot"
   ]
  },
  {
   "cell_type": "markdown",
   "metadata": {},
   "source": [
    "## Result 1: Describtion of questionnaire data"
   ]
  },
  {
   "cell_type": "code",
   "execution_count": 1,
   "metadata": {},
   "outputs": [],
   "source": [
    "# Import datasets\n",
    "from data_process import *\n",
    "\n",
    "# Import external libraries\n",
    "from matplotlib import pyplot as plt\n",
    "import matplotlib as mpl\n",
    "import numpy as np\n",
    "import pandas as pd\n",
    "import seaborn as sns\n",
    "from pyecharts import options\n",
    "from ipysankeywidget import SankeyWidget\n",
    "from ipywidgets import Layout\n",
    "%matplotlib inline\n",
    "mpl.rcParams['xtick.direction'] = 'in' \n",
    "plt.rcParams['ytick.direction'] = 'in'"
   ]
  },
  {
   "cell_type": "markdown",
   "metadata": {},
   "source": [
    "### Fig A: comparing actual pop distribution and survey distribution."
   ]
  },
  {
   "cell_type": "code",
   "execution_count": 2,
   "metadata": {},
   "outputs": [
    {
     "data": {
      "text/plain": [
       "<matplotlib.axes._subplots.AxesSubplot at 0x23d472336a0>"
      ]
     },
     "execution_count": 2,
     "metadata": {},
     "output_type": "execute_result"
    },
    {
     "data": {
      "text/plain": [
       "Text(0, 0.5, 'Proportion')"
      ]
     },
     "execution_count": 2,
     "metadata": {},
     "output_type": "execute_result"
    },
    {
     "data": {
      "text/plain": [
       "Text(0.5, 0, 'Location code')"
      ]
     },
     "execution_count": 2,
     "metadata": {},
     "output_type": "execute_result"
    },
    {
     "data": {
      "image/png": "[encoded data removed]",
      "text/plain": [
       "<Figure size 432x288 with 1 Axes>"
      ]
     },
     "metadata": {
      "needs_background": "light"
     },
     "output_type": "display_data"
    }
   ],
   "source": [
    "# Processing the distribution of actual population.\n",
    "k = 1 - 0.2436\n",
    "city_rate = 0.55\n",
    "pop['location_code'] = pop['location'].str[0]\n",
    "for index in range(len(pop)):\n",
    "    if pop.loc[index, \"location\"] == \"A\":\n",
    "        pop.loc[index, \"use_pop\"] = pop.loc[index, \"population\"] / 3\n",
    "    elif pop.loc[index, \"location\"][0] == \"B\":\n",
    "        pop.loc[index, \"use_pop\"] = pop.loc[index, \"population\"] * k\n",
    "    elif pop.loc[index, \"location\"] in [\"C1\", \"C2\"]:\n",
    "        pop.loc[index, \"use_pop\"] = pop.loc[index, \"city\"]\n",
    "    elif pop.loc[index, \"location\"] == \"C3\":\n",
    "        pop.loc[index, \"use_pop\"] = pop.loc[index, \"population\"] * k \n",
    "    elif pop.loc[index, \"location\"][0] == \"D\":\n",
    "        pop.loc[index, \"use_pop\"] = pop.loc[index, \"population\"] * city_rate\n",
    "        \n",
    "pop_distribution = pop.groupby(\"location_code\")['use_pop'].mean().astype(int)\n",
    "pop_distribution = pop_distribution / pop_distribution.sum()\n",
    "\n",
    "sample_distribution = questionnaires['location_code'].value_counts() / len(questionnaires)\n",
    "distribution = pd.DataFrame({\n",
    "    'location': pop_distribution.index,\n",
    "    'Population': pop_distribution.values,\n",
    "    'Respondents': sample_distribution.values\n",
    "})\n",
    "\n",
    "fig, ax1 = plt.subplots()\n",
    "distribution.plot(kind='bar', x='location', rot=0, ax=ax1, colormap='Pastel2')\n",
    "ax1.set_ylabel(\"Proportion\")\n",
    "ax1.set_xlabel(\"Location code\")"
   ]
  },
  {
   "cell_type": "markdown",
   "metadata": {},
   "source": [
    "### Fig B：Catalogues of respondents"
   ]
  },
  {
   "cell_type": "code",
   "execution_count": 3,
   "metadata": {},
   "outputs": [
    {
     "name": "stdout",
     "output_type": "stream",
     "text": [
      "gender ratio of our survey is 1.00, while in census data 1.04\n",
      "farm proportion of our survey is 43.23%, while in census data 41.13%\n"
     ]
    }
   ],
   "source": [
    "gender_ratio = questionnaires['men'].sum() / questionnaires['women'].sum()\n",
    "gender_ratio_census = 2789 / 2672  # data from http://data.stats.gov.cn\n",
    "print(\"gender ratio of our survey is {:.2f}, while in census data {:.2f}\".format(gender_ratio, gender_ratio_census))\n",
    "\n",
    "farm_ratio = questionnaires['farm'].sum() / len(questionnaires)\n",
    "farm_ratio_census = 283 / 688\n",
    "print(\"farm proportion of our survey is {:.2%}, while in census data {:.2%}\".format(farm_ratio, farm_ratio_census))"
   ]
  },
  {
   "cell_type": "code",
   "execution_count": 39,
   "metadata": {
    "scrolled": false
   },
   "outputs": [
    {
     "data": {
      "text/plain": [
       "{'farm': 262, 'off-farm': 344}"
      ]
     },
     "execution_count": 39,
     "metadata": {},
     "output_type": "execute_result"
    },
    {
     "data": {
      "application/vnd.jupyter.widget-view+json": {
       "model_id": "28e59f51340c4854aedfadfea5641c63",
       "version_major": 2,
       "version_minor": 0
      },
      "text/plain": [
       "SankeyWidget(layout=Layout(height='300', width='600'), links=[{'source': 'farm', 'target': 'Heard of', 'value'…"
      ]
     },
     "metadata": {},
     "output_type": "display_data"
    }
   ],
   "source": [
    "memory_map = {\n",
    "    'heard of somewhere': 'Heard of',\n",
    "    'heard from intimates': 'Heard of',\n",
    "    'know from written records': 'Read about',\n",
    "    'experienced': 'Experienced'\n",
    "}\n",
    "questionnaires_2 = questionnaires.replace(memory_map, inplace=False, regex=True)\n",
    "\n",
    "catalogue_farm = ['farm', 'off-farm'] \n",
    "catalogue_memory = [\"Heard of\", \"Read about\", \"Experienced\"] \n",
    "catalogue_education = list(questionnaires_2['education'].dropna().unique())\n",
    "catalogues = catalogue_farm + catalogue_memory + catalogue_education\n",
    "\n",
    "links = []\n",
    "colors = {'farm': 'goldenrod', 'off-farm': 'mediumseagreen'}\n",
    "numbers = {'farm': len(questionnaires_2[questionnaires_2['farm']]),\n",
    "          'off-farm': len(questionnaires_2) - len(questionnaires_2[questionnaires_2['farm']])}\n",
    "\n",
    "numbers\n",
    "\n",
    "def add_farm_to_memory_sankey(data, source, links):\n",
    "    n = 0\n",
    "    answers = []\n",
    "    for year in MAJOR_HISTORICAL_FLOODS:\n",
    "        answers += list(data[str(year)].values)\n",
    "    answer_dict = {}\n",
    "    for answer in answers:\n",
    "        tmp_list = answer.split(\"; \")\n",
    "        for item in tmp_list:\n",
    "            if item in catalogue_memory:\n",
    "                n += 1\n",
    "                if item in answer_dict:\n",
    "                    answer_dict[item] += 1\n",
    "                else:\n",
    "                    answer_dict[item] = 1           \n",
    "    for how_get_known, value in answer_dict.items():\n",
    "        links.append({\n",
    "            'source': source,\n",
    "            'target': how_get_known,\n",
    "            'value': value / n,\n",
    "            'type': source,\n",
    "            'color': colors[source]\n",
    "        }) \n",
    "    return links\n",
    "\n",
    "\n",
    "farm_data = questionnaires_2[questionnaires_2['farm']]\n",
    "links = add_farm_to_memory_sankey(farm_data, 'farm', links)\n",
    "off_farm_data = questionnaires_2[questionnaires_2['farm'] == False]\n",
    "links = add_farm_to_memory_sankey(off_farm_data, 'off-farm', links)\n",
    "\n",
    "farm_to_education = questionnaires_2.pivot_table(index=['farm', 'education'], values='valid', aggfunc=np.count_nonzero)\n",
    "for source, value in farm_to_education.loc[True]['valid'].items():\n",
    "    links.append({\n",
    "        'source': source,\n",
    "        'target': 'farm',\n",
    "        'value': value / numbers['farm'],\n",
    "        'type': 'farm',\n",
    "        'color': colors['farm']\n",
    "    })\n",
    "\n",
    "    \n",
    "off_farm_to_education = questionnaires_2.pivot_table(index=['farm', 'education'], values='valid', aggfunc=np.count_nonzero)\n",
    "for source, value in farm_to_education.loc[False]['valid'].items():\n",
    "    links.append({\n",
    "        'source': source,\n",
    "        'target': 'off-farm',\n",
    "        'value': value / numbers['off-farm'],\n",
    "        'type': 'off-farm',\n",
    "        'color': colors['off-farm']\n",
    "    })\n",
    "\n",
    "    \n",
    "layout = Layout(width=\"600\", height=\"300\")\n",
    "SankeyWidget(links=links, layout=layout).auto_save_png('images/sankey.png')"
   ]
  },
  {
   "cell_type": "markdown",
   "metadata": {},
   "source": [
    "### Fig C: Memory of major flooding"
   ]
  },
  {
   "cell_type": "code",
   "execution_count": 5,
   "metadata": {
    "scrolled": true
   },
   "outputs": [
    {
     "data": {
      "text/plain": [
       "<matplotlib.axes._subplots.AxesSubplot at 0x23d48366978>"
      ]
     },
     "execution_count": 5,
     "metadata": {},
     "output_type": "execute_result"
    },
    {
     "data": {
      "text/plain": [
       "Text(0.5, 0, 'Major historical ﬂoods')"
      ]
     },
     "execution_count": 5,
     "metadata": {},
     "output_type": "execute_result"
    },
    {
     "data": {
      "text/plain": [
       "Text(0, 0.5, 'Number of respondents')"
      ]
     },
     "execution_count": 5,
     "metadata": {},
     "output_type": "execute_result"
    },
    {
     "data": {
      "image/png": "[encoded data removed]",
      "text/plain": [
       "<Figure size 432x288 with 1 Axes>"
      ]
     },
     "metadata": {
      "needs_background": "light"
     },
     "output_type": "display_data"
    }
   ],
   "source": [
    "major_floods = water_level.loc[MAJOR_HISTORICAL_FLOODS]\n",
    "fre = stats_fre_questionnaris(questionnaires, MAJOR_HISTORICAL_FLOODS, normalize=False)\n",
    "fre['Recollected'], fre['Heard of'], fre['Read about'] = fre['collective'], fre['communicative'], fre['cultural']\n",
    "fig, ax2 = plt.subplots()\n",
    "fre[['Recollected', 'Heard of', 'Read about']].plot(kind='bar', ax=ax2, rot=0, colormap='Pastel2')\n",
    "ax2.set_xlabel(\"Major historical ﬂoods\")\n",
    "ax2.set_ylabel(\"Number of respondents\")"
   ]
  },
  {
   "cell_type": "markdown",
   "metadata": {},
   "source": [
    "### Fig D: Relative collective memory"
   ]
  },
  {
   "cell_type": "code",
   "execution_count": 36,
   "metadata": {
    "scrolled": true
   },
   "outputs": [
    {
     "data": {
      "text/plain": [
       "<matplotlib.axes._subplots.AxesSubplot at 0x23d4c53d588>"
      ]
     },
     "execution_count": 36,
     "metadata": {},
     "output_type": "execute_result"
    },
    {
     "data": {
      "text/plain": [
       "Text(0.5, 0, 'Major historical floods')"
      ]
     },
     "execution_count": 36,
     "metadata": {},
     "output_type": "execute_result"
    },
    {
     "data": {
      "text/plain": [
       "Text(0, 0.5, 'Recollection scaled by relative flooding level')"
      ]
     },
     "execution_count": 36,
     "metadata": {},
     "output_type": "execute_result"
    },
    {
     "data": {
      "image/png": "[encoded data removed]",
      "text/plain": [
       "<Figure size 432x288 with 1 Axes>"
      ]
     },
     "metadata": {
      "needs_background": "light"
     },
     "output_type": "display_data"
    }
   ],
   "source": [
    "ratio = (major_floods['flood_level'] - W_MIN)\n",
    "scaled = fre['collective'] / ratio\n",
    "\n",
    "\n",
    "fig, ax3 = plt.subplots()\n",
    "scaled.plot(kind='bar', rot=0, ax=ax3, color='lightskyblue', edgecolor='dimgrey')\n",
    "ax3.set_xlabel(\"Major historical floods\")\n",
    "ax3.set_ylabel(\"Recollection scaled by relative flooding level\")"
   ]
  },
  {
   "cell_type": "markdown",
   "metadata": {},
   "source": [
    "### Fig E: Scores"
   ]
  },
  {
   "cell_type": "code",
   "execution_count": 7,
   "metadata": {},
   "outputs": [
    {
     "data": {
      "text/plain": [
       "<matplotlib.axes._subplots.AxesSubplot at 0x23d484be908>"
      ]
     },
     "execution_count": 7,
     "metadata": {},
     "output_type": "execute_result"
    },
    {
     "data": {
      "text/plain": [
       "Text(0.5, 0, 'Scores')"
      ]
     },
     "execution_count": 7,
     "metadata": {},
     "output_type": "execute_result"
    },
    {
     "data": {
      "image/png": "[encoded data removed]",
      "text/plain": [
       "<Figure size 432x288 with 1 Axes>"
      ]
     },
     "metadata": {
      "needs_background": "light"
     },
     "output_type": "display_data"
    }
   ],
   "source": [
    "fig, ax6 = plt.subplots()\n",
    "sns.boxplot(data=questionnaires[['levee', 'report', 'maner']], orient='h', ax=ax6, palette='Pastel2')\n",
    "ax6.set_xlabel(\"Scores\")"
   ]
  },
  {
   "cell_type": "code",
   "execution_count": 37,
   "metadata": {},
   "outputs": [
    {
     "data": {
      "text/plain": [
       "<matplotlib.axes._subplots.AxesSubplot at 0x23d484600b8>"
      ]
     },
     "execution_count": 37,
     "metadata": {},
     "output_type": "execute_result"
    },
    {
     "data": {
      "text/plain": [
       "Text(0, 0.5, 'Proportion')"
      ]
     },
     "execution_count": 37,
     "metadata": {},
     "output_type": "execute_result"
    },
    {
     "data": {
      "text/plain": [
       "Text(0.5, 0, 'Location code')"
      ]
     },
     "execution_count": 37,
     "metadata": {},
     "output_type": "execute_result"
    },
    {
     "data": {
      "text/plain": [
       "<matplotlib.axes._subplots.AxesSubplot at 0x23d4c638978>"
      ]
     },
     "execution_count": 37,
     "metadata": {},
     "output_type": "execute_result"
    },
    {
     "data": {
      "text/plain": [
       "Text(0.5, 0, 'Major historical ﬂoods')"
      ]
     },
     "execution_count": 37,
     "metadata": {},
     "output_type": "execute_result"
    },
    {
     "data": {
      "text/plain": [
       "Text(0, 0.5, 'Number of respondents')"
      ]
     },
     "execution_count": 37,
     "metadata": {},
     "output_type": "execute_result"
    },
    {
     "data": {
      "text/plain": [
       "<matplotlib.axes._subplots.AxesSubplot at 0x23d4c66aeb8>"
      ]
     },
     "execution_count": 37,
     "metadata": {},
     "output_type": "execute_result"
    },
    {
     "data": {
      "text/plain": [
       "Text(0.5, 0, 'Major historical floods')"
      ]
     },
     "execution_count": 37,
     "metadata": {},
     "output_type": "execute_result"
    },
    {
     "data": {
      "text/plain": [
       "<matplotlib.legend.Legend at 0x23d4c752208>"
      ]
     },
     "execution_count": 37,
     "metadata": {},
     "output_type": "execute_result"
    },
    {
     "data": {
      "text/plain": [
       "<matplotlib.axes._subplots.AxesSubplot at 0x23d4c6a94a8>"
      ]
     },
     "execution_count": 37,
     "metadata": {},
     "output_type": "execute_result"
    },
    {
     "data": {
      "text/plain": [
       "Text(0.5, 0, 'Scores')"
      ]
     },
     "execution_count": 37,
     "metadata": {},
     "output_type": "execute_result"
    },
    {
     "data": {
      "text/plain": [
       "(0, 10)"
      ]
     },
     "execution_count": 37,
     "metadata": {},
     "output_type": "execute_result"
    },
    {
     "data": {
      "text/plain": [
       "[<matplotlib.axis.YTick at 0x23d4c37df60>,\n",
       " <matplotlib.axis.YTick at 0x23d4c37d828>,\n",
       " <matplotlib.axis.YTick at 0x23d4c3718d0>,\n",
       " <matplotlib.axis.YTick at 0x23d4c7a2da0>]"
      ]
     },
     "execution_count": 37,
     "metadata": {},
     "output_type": "execute_result"
    },
    {
     "data": {
      "text/plain": [
       "[<matplotlib.axis.YTick at 0x23d4c651f98>,\n",
       " <matplotlib.axis.YTick at 0x23d4c651860>,\n",
       " <matplotlib.axis.YTick at 0x23d4c6487f0>,\n",
       " <matplotlib.axis.YTick at 0x23d4c7b94e0>]"
      ]
     },
     "execution_count": 37,
     "metadata": {},
     "output_type": "execute_result"
    },
    {
     "data": {
      "text/plain": [
       "[<matplotlib.axis.YTick at 0x23d4c68a550>,\n",
       " <matplotlib.axis.YTick at 0x23d4c683da0>,\n",
       " <matplotlib.axis.YTick at 0x23d4c679d30>,\n",
       " <matplotlib.axis.YTick at 0x23d4c7b9e80>]"
      ]
     },
     "execution_count": 37,
     "metadata": {},
     "output_type": "execute_result"
    },
    {
     "data": {
      "text/plain": [
       "[<matplotlib.axis.XTick at 0x23d4c6b3c88>,\n",
       " <matplotlib.axis.XTick at 0x23d4c6b35c0>,\n",
       " <matplotlib.axis.XTick at 0x23d4c6b32e8>,\n",
       " <matplotlib.axis.XTick at 0x23d4c7ad3c8>,\n",
       " <matplotlib.axis.XTick at 0x23d4c7ad6a0>]"
      ]
     },
     "execution_count": 37,
     "metadata": {},
     "output_type": "execute_result"
    },
    {
     "data": {
      "image/png": "[encoded data removed]",
      "text/plain": [
       "<Figure size 864x576 with 6 Axes>"
      ]
     },
     "metadata": {
      "needs_background": "light"
     },
     "output_type": "display_data"
    }
   ],
   "source": [
    "fig, ((ax1,ax2,ax3),(ax4,ax5,ax6)) = plt.subplots(2, 3, figsize=(12, 8))\n",
    "\n",
    "# fig A:\n",
    "distribution.plot(kind='bar', x='location', rot=0, edgecolor='dimgrey', ax=ax1, colormap='Set2')\n",
    "ax1.set_ylabel(\"Proportion\")\n",
    "ax1.set_xlabel(\"Location code\")\n",
    "\n",
    "# Fig B\n",
    "# add Sankey plot outside Jupyter Notebook\n",
    "for ax in [ax2, ax3]:\n",
    "    ax.xaxis.set_visible(False)\n",
    "    ax.yaxis.set_visible(False)\n",
    "    ax.spines['top'].set_visible(False)\n",
    "    ax.spines['bottom'].set_visible(False)\n",
    "    ax.spines['left'].set_visible(False)\n",
    "    ax.spines['right'].set_visible(False)\n",
    "\n",
    "# Fig C:\n",
    "fre[['Recollected', 'Heard of', 'Read about']].plot(kind='bar', ax=ax4, edgecolor='dimgrey', rot=0, colormap='Set2')\n",
    "ax4.set_xlabel(\"Major historical ﬂoods\")\n",
    "ax4.set_ylabel(\"Number of respondents\")\n",
    "\n",
    "# fig D\n",
    "scaled.plot(kind='bar', rot=0, ax=ax5, \n",
    "            color='lightseagreen', label='Scaled by water level',\n",
    "            edgecolor='dimgrey')\n",
    "ax5.set_xlabel(\"Major historical floods\")\n",
    "ax5.legend()\n",
    "# ax5.set_ylabel(\"Recollection scaled by relative flooding level\")\n",
    "\n",
    "# fig E\n",
    "sns.boxplot(data=questionnaires[['levee', 'report', 'maner']], \n",
    "            orient='h', ax=ax6, palette='Set2')\n",
    "ax6.set_xlabel(\"Scores\")\n",
    "ax6.set_xlim(0, 10)\n",
    "\n",
    "for ax in [ax1, ax4, ax5, ax6]:\n",
    "    ax.spines['top'].set_visible(False)\n",
    "    ax.spines['bottom'].set_visible(False)\n",
    "    ax.spines['left'].set_visible(False)\n",
    "    ax.spines['right'].set_visible(False)\n",
    "for ax in [ax1, ax4, ax5]:\n",
    "    ax.spines['left'].set_visible(False)\n",
    "    ax.yaxis.grid(color='lightgray', linestyle='-.', linewidth=0.5)\n",
    "ax1.set_yticks(np.arange(0, 0.4, 0.1))\n",
    "ax4.set_yticks(np.arange(0, 350, 90))\n",
    "ax5.set_yticks(np.arange(0, 160, 40))\n",
    "ax6.spines['bottom'].set_visible(True)\n",
    "ax6.set_xticks(np.arange(0, 10.1, 2.5))\n",
    "ax6.xaxis.grid(color='lightgray', linestyle='-.', linewidth=0.5)\n",
    "\n",
    "plt.savefig('images/result1.jpg', format='jpg', dpi=300)\n",
    "\n"
   ]
  },
  {
   "cell_type": "markdown",
   "metadata": {},
   "source": [
    "# Result 2: Decay of collective memory"
   ]
  },
  {
   "cell_type": "code",
   "execution_count": 9,
   "metadata": {},
   "outputs": [
    {
     "data": {
      "image/png": "[encoded data removed]",
      "text/plain": [
       "<Figure size 648x648 with 4 Axes>"
      ]
     },
     "metadata": {
      "needs_background": "light"
     },
     "output_type": "display_data"
    }
   ],
   "source": [
    "fig, ((ax1, ax2), (ax3, ax4)) = plt.subplots(2, 2, figsize=(9, 9))"
   ]
  },
  {
   "cell_type": "code",
   "execution_count": 10,
   "metadata": {},
   "outputs": [
    {
     "data": {
      "text/plain": [
       "(1134.3, 1141.5)"
      ]
     },
     "execution_count": 10,
     "metadata": {},
     "output_type": "execute_result"
    },
    {
     "data": {
      "text/plain": [
       "Text(0.5, 270.05818181818177, 'Major historical ﬂood')"
      ]
     },
     "execution_count": 10,
     "metadata": {},
     "output_type": "execute_result"
    },
    {
     "data": {
      "text/plain": [
       "Text(3.200000000000003, 0.5, 'Elevation / m')"
      ]
     },
     "execution_count": 10,
     "metadata": {},
     "output_type": "execute_result"
    },
    {
     "data": {
      "text/plain": [
       "<matplotlib.legend.Legend at 0x23d4854f0b8>"
      ]
     },
     "execution_count": 10,
     "metadata": {},
     "output_type": "execute_result"
    }
   ],
   "source": [
    "# Actural flooding water level, levee height\n",
    "\n",
    "major_floods = water_level.loc[MAJOR_HISTORICAL_FLOODS]\n",
    "memory = stats_fre_questionnaris(questionnaires, MAJOR_HISTORICAL_FLOODS, normalize=True)\n",
    "\n",
    "for y in MAJOR_HISTORICAL_FLOODS:\n",
    "    major_floods.loc[y, 'height_levee'] = get_actual_levee_height(y)\n",
    "\n",
    "\n",
    "\n",
    "wl = major_floods['flood_level'].plot(kind='bar', color='blue', label='flooding water level', ax=ax1)\n",
    "lh = major_floods['height_levee'].plot(kind='bar', color='gray', label='levee height', ax=ax1)\n",
    "ax1.set_ylim(W_MIN-1, W_MAX)\n",
    "ax1.set_xlabel(\"Major historical ﬂood\")\n",
    "ax1.set_ylabel(\"Elevation / m\")\n",
    "ax1.legend()"
   ]
  }
 ],
 "metadata": {
  "kernelspec": {
   "display_name": "Python 3",
   "language": "python",
   "name": "python3"
  },
  "language_info": {
   "codemirror_mode": {
    "name": "ipython",
    "version": 3
   },
   "file_extension": ".py",
   "mimetype": "text/x-python",
   "name": "python",
   "nbconvert_exporter": "python",
   "pygments_lexer": "ipython3",
   "version": "3.7.0"
  }
 },
 "nbformat": 4,
 "nbformat_minor": 2
}
